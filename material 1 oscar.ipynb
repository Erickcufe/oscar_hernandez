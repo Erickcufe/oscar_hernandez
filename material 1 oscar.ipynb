{
  "cells": [
    {
      "cell_type": "raw",
      "metadata": {},
      "source": [
        "---\n",
        "title: \"Material 1 Oscar\"\n",
        "format: html\n",
        "editor: visual\n",
        "---"
      ],
      "id": "4df0e9be"
    },
    {
      "cell_type": "markdown",
      "metadata": {},
      "source": [
        "## Introducción RMarkdown\n",
        "\n",
        "Es la combinación de markdown, código en R y su evaluación. Esto esta englobado en un archivo `.Rmd` el cual tiene:\n",
        "\n",
        "-   YAML (Meta datos): La sección YAML al principio del archivo contiene metadatos como título, autor, fecha y otros datos que se utilizan para configurar el documento.\n",
        "\n",
        "-   Markdown: El texto del documento se escribe en Markdown, un lenguaje de marcado ligero y fácil de leer. El Markdown se utiliza para definir la estructura y el formato del texto, incluyendo títulos, párrafos, enlaces, listas, etc.\n",
        "\n",
        "-   Código R: El archivo `.Rmd` también contiene código R, que se ejecuta para generar gráficos, tablas y otros resultados que se incluyen en el documento. El código R se encapsula dentro de bloques de código, denotados por triple barras inversas (\\`\\`\\`\\`\\`) y se puede personalizar con opciones como `echo` y `eval` para controlar la visualización y evaluación del código.\n",
        "\n",
        "### Estructura de un documento `.Rmd`\n",
        "\n",
        "-   YAML\n",
        "\n",
        "\n",
        "```{yaml}\n",
        "---\n",
        "title: \"Mi Primer Documento\"\n",
        "author: \"Tu Nombre\"\n",
        "date: \"`r Sys.Date()`\"\n",
        "output: html_document\n",
        "---\n",
        "\n",
        "```"
      ],
      "id": "5126c84f"
    }
  ],
  "metadata": {
    "kernelspec": {
      "name": "python3",
      "language": "python",
      "display_name": "Python 3"
    }
  },
  "nbformat": 4,
  "nbformat_minor": 5
}